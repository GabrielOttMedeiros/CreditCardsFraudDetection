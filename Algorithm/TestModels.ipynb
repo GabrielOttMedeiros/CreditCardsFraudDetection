{
 "cells": [
  {
   "cell_type": "code",
   "execution_count": 4,
   "id": "1069fef1",
   "metadata": {},
   "outputs": [
    {
     "data": {
      "text/html": [
       "<div>\n",
       "<style scoped>\n",
       "    .dataframe tbody tr th:only-of-type {\n",
       "        vertical-align: middle;\n",
       "    }\n",
       "\n",
       "    .dataframe tbody tr th {\n",
       "        vertical-align: top;\n",
       "    }\n",
       "\n",
       "    .dataframe thead th {\n",
       "        text-align: right;\n",
       "    }\n",
       "</style>\n",
       "<table border=\"1\" class=\"dataframe\">\n",
       "  <thead>\n",
       "    <tr style=\"text-align: right;\">\n",
       "      <th></th>\n",
       "      <th>max_depth</th>\n",
       "      <th>n_estimators</th>\n",
       "    </tr>\n",
       "  </thead>\n",
       "  <tbody>\n",
       "    <tr>\n",
       "      <th>0</th>\n",
       "      <td>3</td>\n",
       "      <td>200</td>\n",
       "    </tr>\n",
       "    <tr>\n",
       "      <th>1</th>\n",
       "      <td>3</td>\n",
       "      <td>200</td>\n",
       "    </tr>\n",
       "    <tr>\n",
       "      <th>2</th>\n",
       "      <td>3</td>\n",
       "      <td>200</td>\n",
       "    </tr>\n",
       "    <tr>\n",
       "      <th>3</th>\n",
       "      <td>3</td>\n",
       "      <td>200</td>\n",
       "    </tr>\n",
       "    <tr>\n",
       "      <th>4</th>\n",
       "      <td>3</td>\n",
       "      <td>200</td>\n",
       "    </tr>\n",
       "    <tr>\n",
       "      <th>...</th>\n",
       "      <td>...</td>\n",
       "      <td>...</td>\n",
       "    </tr>\n",
       "    <tr>\n",
       "      <th>395</th>\n",
       "      <td>10</td>\n",
       "      <td>1000</td>\n",
       "    </tr>\n",
       "    <tr>\n",
       "      <th>396</th>\n",
       "      <td>10</td>\n",
       "      <td>1000</td>\n",
       "    </tr>\n",
       "    <tr>\n",
       "      <th>397</th>\n",
       "      <td>10</td>\n",
       "      <td>1000</td>\n",
       "    </tr>\n",
       "    <tr>\n",
       "      <th>398</th>\n",
       "      <td>10</td>\n",
       "      <td>1000</td>\n",
       "    </tr>\n",
       "    <tr>\n",
       "      <th>399</th>\n",
       "      <td>10</td>\n",
       "      <td>1000</td>\n",
       "    </tr>\n",
       "  </tbody>\n",
       "</table>\n",
       "<p>400 rows × 2 columns</p>\n",
       "</div>"
      ],
      "text/plain": [
       "     max_depth  n_estimators\n",
       "0            3           200\n",
       "1            3           200\n",
       "2            3           200\n",
       "3            3           200\n",
       "4            3           200\n",
       "..         ...           ...\n",
       "395         10          1000\n",
       "396         10          1000\n",
       "397         10          1000\n",
       "398         10          1000\n",
       "399         10          1000\n",
       "\n",
       "[400 rows x 2 columns]"
      ]
     },
     "execution_count": 4,
     "metadata": {},
     "output_type": "execute_result"
    }
   ],
   "source": [
    "import HyperParameters as hp\n",
    "\n",
    "hp.RandomForestHyperParameters()"
   ]
  },
  {
   "cell_type": "code",
   "execution_count": 5,
   "id": "392eb969",
   "metadata": {},
   "outputs": [
    {
     "name": "stderr",
     "output_type": "stream",
     "text": [
      "/home/ec2-user/anaconda3/envs/tensorflow2_p36/lib/python3.6/site-packages/numpy/lib/arraysetops.py:580: FutureWarning: elementwise comparison failed; returning scalar instead, but in the future will perform elementwise comparison\n",
      "  mask |= (ar1 == a)\n"
     ]
    }
   ],
   "source": [
    "import pandas as pd\n",
    "import numpy as np\n",
    "import EvaluateModels as em\n",
    "import boto3\n",
    "\n",
    "## defining bucket\n",
    "s3 = boto3.resource('s3')\n",
    "\n",
    "bucket_name = 'gabriel-de-medeiros'\n",
    "\n",
    "bucket = s3.Bucket(bucket_name)\n",
    "\n",
    "## specifying file from the bucket\n",
    "file_key = 'CleanTrainData.csv'\n",
    "file_key2 = 'CleanTestData.csv'\n",
    "\n",
    "bucket_object = bucket.Object(file_key)\n",
    "bucket_object2 = bucket.Object(file_key2)\n",
    "\n",
    "file_object = bucket_object.get()\n",
    "file_object2 = bucket_object2.get()\n",
    "\n",
    "file_content_stream = file_object.get('Body')\n",
    "file_content_stream2 = file_object2.get('Body')\n",
    "\n",
    "\n",
    "## Reading csv file, index_col = 0 makes the first column of the data to become the index of our pandas data frame\n",
    "train_data = pd.read_csv(file_content_stream, index_col = 0)\n",
    "test_data = pd.read_csv(file_content_stream2, index_col = 0)\n",
    "\n",
    "train_data = train_data.reset_index(drop = True)\n",
    "test_data = test_data.reset_index(drop = True)\n",
    "\n",
    "train_data = train_data.select_dtypes(exclude=['object'])\n",
    "test_data = test_data.select_dtypes(exclude=['object'])\n",
    "\n",
    "X_t = train_data.dropna()\n",
    "X_tst = test_data.dropna()\n"
   ]
  },
  {
   "cell_type": "code",
   "execution_count": 6,
   "id": "92de8d9f",
   "metadata": {},
   "outputs": [
    {
     "data": {
      "text/plain": [
       "Index(['uses_per_category', 'std_dist', 'std_dist_by_category',\n",
       "       'std_amt_by_category', 'std_amt', 'avg_amt', 'avg_by_category',\n",
       "       'total_uses', 'hour_of_the_day', 'uses_per_hour', 'month',\n",
       "       'uses_per_month', 'uses_per_day', 'avg_distance',\n",
       "       'avg_distance_by_category', 'amt', 'zip', 'lat', 'long', 'city_pop',\n",
       "       'unix_time', 'merch_lat', 'merch_long', 'distance', 'age',\n",
       "       'diff_by_card_trans', 'diff_first_last', 'purchase_>_avg',\n",
       "       'purchase_>_avg_by_category', 'purchase_>_distance',\n",
       "       'purchase_>_distance_by_category', 'amt_>_1_std', 'amt_>_2_std',\n",
       "       'amt_>_1_std_by_cagegory', 'amt_>_2_std_by_cagegory', 'dist_>_1_std',\n",
       "       'dist_>_2_std', 'dist_>_1_std_by_cagegory', 'dist_>_2_std_by_cagegory'],\n",
       "      dtype='object')"
      ]
     },
     "execution_count": 6,
     "metadata": {},
     "output_type": "execute_result"
    }
   ],
   "source": [
    "\n",
    "train_data = X_t.iloc[0:10000,:]\n",
    "test_data = X_tst.iloc[0:10000,:]\n",
    "\n",
    "\n",
    "X_train, Y_train = train_data.drop(columns = 'is_fraud'), train_data['is_fraud']\n",
    "\n",
    "\n",
    "X_train.columns"
   ]
  },
  {
   "cell_type": "code",
   "execution_count": null,
   "id": "6edfa9df",
   "metadata": {},
   "outputs": [
    {
     "name": "stdout",
     "output_type": "stream",
     "text": [
      "DecisionTrees\n"
     ]
    },
    {
     "name": "stderr",
     "output_type": "stream",
     "text": [
      "100%|██████████| 80/80 [01:02<00:00,  1.28it/s]\n"
     ]
    },
    {
     "name": "stdout",
     "output_type": "stream",
     "text": [
      "RandomForest\n"
     ]
    },
    {
     "name": "stderr",
     "output_type": "stream",
     "text": [
      " 34%|███▍      | 274/800 [02:28<05:32,  1.58it/s]"
     ]
    }
   ],
   "source": [
    "X = X_train\n",
    "Y = Y_train\n",
    "\n",
    "import Get_Variable_Importance as gvi\n",
    "\n",
    "print('DecisionTrees')\n",
    "decision_trees_variable_importance = gvi.Decision_Tree_Importance(X,Y)\n",
    "\n",
    "print('RandomForest')\n",
    "random_forest_variable_importance = gvi.Random_Forest_Importance(X,Y)\n",
    "\n",
    "print('ImportantVariables')\n",
    "df_importance_columns = gvi.Getting_Best_Model(decision_trees_variable_importance,random_forest_variable_importance,X,Y)"
   ]
  },
  {
   "cell_type": "code",
   "execution_count": null,
   "id": "5701af5c",
   "metadata": {},
   "outputs": [],
   "source": [
    "X_test = test_data[df_importance_columns.drop(columns = 'is_fraud').columns]\n",
    "Y_test = test_data['is_fraud']\n",
    "\n",
    "X_train = train_data[df_importance_columns.drop(columns = 'is_fraud').columns]\n",
    "Y_train = train_data['is_fraud']"
   ]
  },
  {
   "cell_type": "code",
   "execution_count": 7,
   "id": "cc4e0920",
   "metadata": {},
   "outputs": [],
   "source": [
    "train_data = X_t.iloc[0:10000,:]\n",
    "test_data = X_tst.iloc[0:10000,:]\n",
    "\n",
    "\n",
    "X_test = test_data.drop(columns = 'is_fraud')\n",
    "X_train = train_data.drop(columns = 'is_fraud')\n",
    "Y_test = test_data['is_fraud']\n",
    "Y_train = train_data['is_fraud']"
   ]
  },
  {
   "cell_type": "code",
   "execution_count": 8,
   "id": "49487ef2",
   "metadata": {},
   "outputs": [
    {
     "name": "stdout",
     "output_type": "stream",
     "text": [
      "DecisionTrees\n"
     ]
    },
    {
     "name": "stderr",
     "output_type": "stream",
     "text": [
      "100%|██████████| 8/8 [00:01<00:00,  4.28it/s]\n"
     ]
    }
   ],
   "source": [
    "## Decision Trees\n",
    "DTC_results = em.DecisionTreesResults(X_test, X_train, Y_test, Y_train)\n",
    "DTC_best_model = em.DecisionTreesBestModel(DTC_results)"
   ]
  },
  {
   "cell_type": "code",
   "execution_count": 9,
   "id": "0181df56",
   "metadata": {},
   "outputs": [
    {
     "data": {
      "text/html": [
       "<div>\n",
       "<style scoped>\n",
       "    .dataframe tbody tr th:only-of-type {\n",
       "        vertical-align: middle;\n",
       "    }\n",
       "\n",
       "    .dataframe tbody tr th {\n",
       "        vertical-align: top;\n",
       "    }\n",
       "\n",
       "    .dataframe thead th {\n",
       "        text-align: right;\n",
       "    }\n",
       "</style>\n",
       "<table border=\"1\" class=\"dataframe\">\n",
       "  <thead>\n",
       "    <tr style=\"text-align: right;\">\n",
       "      <th></th>\n",
       "      <th>max_depth</th>\n",
       "      <th>cut_off</th>\n",
       "      <th>accuracy</th>\n",
       "      <th>recall</th>\n",
       "      <th>Performance</th>\n",
       "    </tr>\n",
       "  </thead>\n",
       "  <tbody>\n",
       "    <tr>\n",
       "      <th>0</th>\n",
       "      <td>3</td>\n",
       "      <td>0.10</td>\n",
       "      <td>0.9272</td>\n",
       "      <td>0.789474</td>\n",
       "      <td>0.852812</td>\n",
       "    </tr>\n",
       "    <tr>\n",
       "      <th>1</th>\n",
       "      <td>3</td>\n",
       "      <td>0.15</td>\n",
       "      <td>0.9429</td>\n",
       "      <td>0.657895</td>\n",
       "      <td>0.775026</td>\n",
       "    </tr>\n",
       "    <tr>\n",
       "      <th>2</th>\n",
       "      <td>3</td>\n",
       "      <td>0.20</td>\n",
       "      <td>0.9429</td>\n",
       "      <td>0.657895</td>\n",
       "      <td>0.775026</td>\n",
       "    </tr>\n",
       "    <tr>\n",
       "      <th>3</th>\n",
       "      <td>3</td>\n",
       "      <td>0.25</td>\n",
       "      <td>0.9429</td>\n",
       "      <td>0.657895</td>\n",
       "      <td>0.775026</td>\n",
       "    </tr>\n",
       "    <tr>\n",
       "      <th>4</th>\n",
       "      <td>3</td>\n",
       "      <td>0.30</td>\n",
       "      <td>0.9429</td>\n",
       "      <td>0.657895</td>\n",
       "      <td>0.775026</td>\n",
       "    </tr>\n",
       "    <tr>\n",
       "      <th>...</th>\n",
       "      <td>...</td>\n",
       "      <td>...</td>\n",
       "      <td>...</td>\n",
       "      <td>...</td>\n",
       "      <td>...</td>\n",
       "    </tr>\n",
       "    <tr>\n",
       "      <th>75</th>\n",
       "      <td>10</td>\n",
       "      <td>0.35</td>\n",
       "      <td>0.9928</td>\n",
       "      <td>0.552632</td>\n",
       "      <td>0.710032</td>\n",
       "    </tr>\n",
       "    <tr>\n",
       "      <th>76</th>\n",
       "      <td>10</td>\n",
       "      <td>0.40</td>\n",
       "      <td>0.9928</td>\n",
       "      <td>0.552632</td>\n",
       "      <td>0.710032</td>\n",
       "    </tr>\n",
       "    <tr>\n",
       "      <th>77</th>\n",
       "      <td>10</td>\n",
       "      <td>0.45</td>\n",
       "      <td>0.9928</td>\n",
       "      <td>0.552632</td>\n",
       "      <td>0.710032</td>\n",
       "    </tr>\n",
       "    <tr>\n",
       "      <th>78</th>\n",
       "      <td>10</td>\n",
       "      <td>0.50</td>\n",
       "      <td>0.9928</td>\n",
       "      <td>0.552632</td>\n",
       "      <td>0.710032</td>\n",
       "    </tr>\n",
       "    <tr>\n",
       "      <th>79</th>\n",
       "      <td>10</td>\n",
       "      <td>0.55</td>\n",
       "      <td>0.9928</td>\n",
       "      <td>0.552632</td>\n",
       "      <td>0.710032</td>\n",
       "    </tr>\n",
       "  </tbody>\n",
       "</table>\n",
       "<p>80 rows × 5 columns</p>\n",
       "</div>"
      ],
      "text/plain": [
       "    max_depth  cut_off  accuracy    recall  Performance\n",
       "0           3     0.10    0.9272  0.789474     0.852812\n",
       "1           3     0.15    0.9429  0.657895     0.775026\n",
       "2           3     0.20    0.9429  0.657895     0.775026\n",
       "3           3     0.25    0.9429  0.657895     0.775026\n",
       "4           3     0.30    0.9429  0.657895     0.775026\n",
       "..        ...      ...       ...       ...          ...\n",
       "75         10     0.35    0.9928  0.552632     0.710032\n",
       "76         10     0.40    0.9928  0.552632     0.710032\n",
       "77         10     0.45    0.9928  0.552632     0.710032\n",
       "78         10     0.50    0.9928  0.552632     0.710032\n",
       "79         10     0.55    0.9928  0.552632     0.710032\n",
       "\n",
       "[80 rows x 5 columns]"
      ]
     },
     "execution_count": 9,
     "metadata": {},
     "output_type": "execute_result"
    }
   ],
   "source": [
    "DTC_results"
   ]
  },
  {
   "cell_type": "code",
   "execution_count": null,
   "id": "ec5ba465",
   "metadata": {},
   "outputs": [],
   "source": [
    "DTC_best_model"
   ]
  },
  {
   "cell_type": "code",
   "execution_count": null,
   "id": "8d08a180",
   "metadata": {},
   "outputs": [],
   "source": [
    "LR_results = em.LogisticRegressionResults(X_test, X_train, Y_test, Y_train)"
   ]
  },
  {
   "cell_type": "code",
   "execution_count": null,
   "id": "8a49f221",
   "metadata": {},
   "outputs": [],
   "source": [
    "LR_results"
   ]
  },
  {
   "cell_type": "code",
   "execution_count": null,
   "id": "4321c5b9",
   "metadata": {},
   "outputs": [],
   "source": [
    "NN_results = em.NeuralNetworksResults(X_test, X_train, Y_test, Y_train)"
   ]
  },
  {
   "cell_type": "code",
   "execution_count": null,
   "id": "702e2a69",
   "metadata": {},
   "outputs": [],
   "source": [
    "RF_results = em.RandomForestResults(X_test, X_train, Y_test, Y_train)\n",
    "RF_best_model = em.DecisionTreesBestModel(RF_results)"
   ]
  },
  {
   "cell_type": "code",
   "execution_count": null,
   "id": "f3a5ba19",
   "metadata": {},
   "outputs": [],
   "source": [
    "## SVC\n",
    "SVC_results = em.SupportVectorMachineResults(X_test, X_train, Y_test, Y_train)\n",
    "SVC_best_model = em.SvcBestModel(SVC_results)"
   ]
  },
  {
   "cell_type": "code",
   "execution_count": null,
   "id": "b5e51311",
   "metadata": {},
   "outputs": [],
   "source": [
    "## AdaBoost Decision Trees\n",
    "ADA_DTC = em.AdaBoostDecisionTreesResults(X_test, X_train, Y_test, Y_train, DTC_best_model)\n",
    "\n"
   ]
  },
  {
   "cell_type": "code",
   "execution_count": null,
   "id": "c80075fd",
   "metadata": {},
   "outputs": [],
   "source": [
    "## AdaBoost SVC\n",
    "ADA_SVC= em.AdaBoostSvmResults(X_test, X_train, Y_test, Y_train, SVC_best_model)\n",
    "\n"
   ]
  },
  {
   "cell_type": "code",
   "execution_count": null,
   "id": "2ebd7623",
   "metadata": {},
   "outputs": [],
   "source": [
    "# GradientBoosting\n",
    "GBC_results = em.GradientBoostingResults(X_test, X_train, Y_test, Y_train)"
   ]
  },
  {
   "cell_type": "code",
   "execution_count": null,
   "id": "dd794772",
   "metadata": {},
   "outputs": [],
   "source": [
    "\n",
    "\n",
    "\n",
    "\n",
    "# DTC_results.to_csv('CreditCardsFraudDetection/Algorithm/DTC_results.csv', index = False)\n",
    "# DTC_best_model.to_csv('CreditCardsFraudDetection/Algorithm/DTC_best_model.csv', index = False)\n",
    "# RF_results.to_csv('CreditCardsFraudDetection/Algorithm/RF_results.csv', index = False)\n",
    "# RF_best_model.to_csv('CreditCardsFraudDetection/Algorithm/RF_best_model.csv', index = False)\n",
    "# NN_results.to_csv('CreditCardsFraudDetection/Algorithm/NN_results.csv', index = False)\n",
    "# SVC_results.to_csv('CreditCardsFraudDetection/Algorithm/SVC_results.csv', index = False)\n",
    "# SVC_best_model.to_csv('CreditCardsFraudDetection/Algorithm/SVC_best_model.csv', index = False)\n",
    "# LR_results.to_csv('CreditCardsFraudDetection/Algorithm/LR_results.csv', index = False)\n",
    "# ADA_DTC.to_csv('CreditCardsFraudDetection/Algorithm/ADA_DTC.csv', index = False)\n",
    "# ADA_SVC.to_csv('CreditCardsFraudDetection/Algorithm/ADA_SVC.csv', index = False)\n",
    "# GBC_results.to_csv('CreditCardsFraudDetection/Algorithm/GBC_results.csv', index = False)"
   ]
  }
 ],
 "metadata": {
  "kernelspec": {
   "display_name": "conda_tensorflow2_p36",
   "language": "python",
   "name": "conda_tensorflow2_p36"
  },
  "language_info": {
   "codemirror_mode": {
    "name": "ipython",
    "version": 3
   },
   "file_extension": ".py",
   "mimetype": "text/x-python",
   "name": "python",
   "nbconvert_exporter": "python",
   "pygments_lexer": "ipython3",
   "version": "3.6.13"
  }
 },
 "nbformat": 4,
 "nbformat_minor": 5
}

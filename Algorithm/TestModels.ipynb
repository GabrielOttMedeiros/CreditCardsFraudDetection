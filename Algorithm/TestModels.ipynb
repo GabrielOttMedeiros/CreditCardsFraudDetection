{
 "cells": [
  {
   "cell_type": "code",
   "execution_count": null,
   "id": "0c47529a",
   "metadata": {},
   "outputs": [],
   "source": [
    "import pandas as pd\n",
    "import numpy as np\n",
    "import EvaluateModels as em\n",
    "import boto3\n",
    "\n",
    "## defining bucket\n",
    "s3 = boto3.resource('s3')\n",
    "\n",
    "bucket_name = 'gabriel-de-medeiros'\n",
    "\n",
    "bucket = s3.Bucket(bucket_name)\n",
    "\n",
    "## specifying file from the bucket\n",
    "file_key = 'CleanTrainData.csv'\n",
    "file_key2 = 'CleanTestData.csv'\n",
    "\n",
    "bucket_object = bucket.Object(file_key)\n",
    "bucket_object2 = bucket.Object(file_key2)\n",
    "\n",
    "file_object = bucket_object.get()\n",
    "file_object2 = bucket_object2.get()\n",
    "\n",
    "file_content_stream = file_object.get('Body')\n",
    "file_content_stream2 = file_object2.get('Body')\n",
    "\n",
    "\n",
    "## Reading csv file, index_col = 0 makes the first column of the data to become the index of our pandas data frame\n",
    "train_data = pd.read_csv(file_content_stream, index_col = 0)\n",
    "test_data = pd.read_csv(file_content_stream2, index_col = 0)\n",
    "\n",
    "train_data = train_data.reset_index(drop = True)\n",
    "test_data = test_data.reset_index(drop = True)\n",
    "\n",
    "train_data = train_data.select_dtypes(exclude=['object'])\n",
    "test_data = test_data.select_dtypes(exclude=['object'])\n",
    "\n",
    "train_data = train_data.dropna()\n",
    "test_data = test_data.dropna()\n",
    "\n",
    "\n",
    "X_train, Y_train = train_data.drop(columns = 'is_fraud'), train_data['is_fraud']\n",
    "\n",
    "\n",
    "### REMOVE LATER\n",
    "X = X_train.loc[0:10000]\n",
    "Y = Y_train.loc[0:10000]\n",
    "\n",
    "import Get_Variable_Importance as gvi\n",
    "\n",
    "\n",
    "df_importance_columns = gvi.Importance(X,Y)\n",
    "\n",
    "\n",
    "X_test = test_data[df_importance_columns.drop(columns = 'is_fraud').columns]\n",
    "Y_test = test_data['is_fraud']\n",
    "\n",
    "### REMOVE LATER\n",
    "X_test = X_test.loc[0:10000]\n",
    "Y_test = Y_test.loc[0:10000]\n",
    "\n",
    "X_train = train_data[df_importance_columns.drop(columns = 'is_fraud').columns]\n",
    "Y_train = train_data['is_fraud']\n",
    "\n",
    "X_train = X_train.loc[0:10000]\n",
    "Y_train = Y_train.loc[0:10000]"
   ]
  },
  {
   "cell_type": "code",
   "execution_count": null,
   "id": "a4eb42eb",
   "metadata": {},
   "outputs": [],
   "source": [
    "## Decision Trees\n",
    "DTC_results = em.DecisionTreesResults(X_test, X_train, Y_test, Y_train)\n",
    "DTC_best_model = em.DecisionTreesBestModel(DTC_results)"
   ]
  },
  {
   "cell_type": "code",
   "execution_count": null,
   "id": "7fb69a0d",
   "metadata": {},
   "outputs": [],
   "source": [
    "DTC_results"
   ]
  },
  {
   "cell_type": "code",
   "execution_count": null,
   "id": "d834d8a5",
   "metadata": {},
   "outputs": [],
   "source": [
    "DTC_best_model"
   ]
  },
  {
   "cell_type": "code",
   "execution_count": null,
   "id": "fe1613a6",
   "metadata": {},
   "outputs": [],
   "source": [
    "LR_results = em.LogisticRegressionResults(X_test, X_train, Y_test, Y_train)"
   ]
  },
  {
   "cell_type": "code",
   "execution_count": null,
   "id": "57957b29",
   "metadata": {},
   "outputs": [],
   "source": [
    "LR_results"
   ]
  },
  {
   "cell_type": "code",
   "execution_count": null,
   "id": "5d66c237",
   "metadata": {},
   "outputs": [],
   "source": [
    "NN_results = em.NeuralNetworksResults(X_test, X_train, Y_test, Y_train)"
   ]
  },
  {
   "cell_type": "code",
   "execution_count": null,
   "id": "a3d7b7f0",
   "metadata": {},
   "outputs": [],
   "source": [
    "RF_results = em.RandomForestResults(X_test, X_train, Y_test, Y_train)\n",
    "RF_best_model = em.DecisionTreesBestModel(RF_results)"
   ]
  },
  {
   "cell_type": "code",
   "execution_count": null,
   "id": "f3ec2e3d",
   "metadata": {},
   "outputs": [],
   "source": [
    "## SVC\n",
    "SVC_results = em.SupportVectorMachineResults(X_test, X_train, Y_test, Y_train)\n",
    "SVC_best_model = em.SvcBestModel(SVC_results)"
   ]
  },
  {
   "cell_type": "code",
   "execution_count": null,
   "id": "16d47558",
   "metadata": {},
   "outputs": [],
   "source": [
    "## AdaBoost Decision Trees\n",
    "ADA_DTC = em.AdaBoostDecisionTreesResults(X_test, X_train, Y_test, Y_train, DTC_best_model)\n",
    "\n"
   ]
  },
  {
   "cell_type": "code",
   "execution_count": null,
   "id": "a95e3664",
   "metadata": {},
   "outputs": [],
   "source": [
    "## AdaBoost SVC\n",
    "ADA_SVC= em.AdaBoostSvmResults(X_test, X_train, Y_test, Y_train, SVC_best_model)\n",
    "\n"
   ]
  },
  {
   "cell_type": "code",
   "execution_count": null,
   "id": "f080f605",
   "metadata": {},
   "outputs": [],
   "source": [
    "# GradientBoosting\n",
    "GBC_results = em.GradientBoostingResults(X_test, X_train, Y_test, Y_train)"
   ]
  },
  {
   "cell_type": "code",
   "execution_count": null,
   "id": "b31db647",
   "metadata": {},
   "outputs": [],
   "source": [
    "\n",
    "\n",
    "\n",
    "\n",
    "# DTC_results.to_csv('CreditCardsFraudDetection/Algorithm/DTC_results.csv', index = False)\n",
    "# DTC_best_model.to_csv('CreditCardsFraudDetection/Algorithm/DTC_best_model.csv', index = False)\n",
    "# RF_results.to_csv('CreditCardsFraudDetection/Algorithm/RF_results.csv', index = False)\n",
    "# RF_best_model.to_csv('CreditCardsFraudDetection/Algorithm/RF_best_model.csv', index = False)\n",
    "# NN_results.to_csv('CreditCardsFraudDetection/Algorithm/NN_results.csv', index = False)\n",
    "# SVC_results.to_csv('CreditCardsFraudDetection/Algorithm/SVC_results.csv', index = False)\n",
    "# SVC_best_model.to_csv('CreditCardsFraudDetection/Algorithm/SVC_best_model.csv', index = False)\n",
    "# LR_results.to_csv('CreditCardsFraudDetection/Algorithm/LR_results.csv', index = False)\n",
    "# ADA_DTC.to_csv('CreditCardsFraudDetection/Algorithm/ADA_DTC.csv', index = False)\n",
    "# ADA_SVC.to_csv('CreditCardsFraudDetection/Algorithm/ADA_SVC.csv', index = False)\n",
    "# GBC_results.to_csv('CreditCardsFraudDetection/Algorithm/GBC_results.csv', index = False)"
   ]
  }
 ],
 "metadata": {
  "kernelspec": {
   "display_name": "conda_tensorflow2_p36",
   "language": "python",
   "name": "conda_tensorflow2_p36"
  },
  "language_info": {
   "codemirror_mode": {
    "name": "ipython",
    "version": 3
   },
   "file_extension": ".py",
   "mimetype": "text/x-python",
   "name": "python",
   "nbconvert_exporter": "python",
   "pygments_lexer": "ipython3",
   "version": "3.6.13"
  }
 },
 "nbformat": 4,
 "nbformat_minor": 5
}

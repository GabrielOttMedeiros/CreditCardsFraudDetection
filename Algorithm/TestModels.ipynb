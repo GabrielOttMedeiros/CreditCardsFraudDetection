{
 "cells": [
  {
   "cell_type": "code",
   "execution_count": null,
   "id": "abdf5b95",
   "metadata": {},
   "outputs": [
    {
     "name": "stderr",
     "output_type": "stream",
     "text": [
      "/home/ec2-user/anaconda3/envs/tensorflow2_p36/lib/python3.6/site-packages/numpy/lib/arraysetops.py:580: FutureWarning: elementwise comparison failed; returning scalar instead, but in the future will perform elementwise comparison\n",
      "  mask |= (ar1 == a)\n"
     ]
    },
    {
     "name": "stdout",
     "output_type": "stream",
     "text": [
      "Decision Trees:\n"
     ]
    },
    {
     "name": "stderr",
     "output_type": "stream",
     "text": [
      "100%|██████████| 8/8 [00:00<00:00, 11.18it/s]\n"
     ]
    },
    {
     "name": "stdout",
     "output_type": "stream",
     "text": [
      "Random Forest:\n"
     ]
    },
    {
     "name": "stderr",
     "output_type": "stream",
     "text": [
      "100%|██████████| 40/40 [03:25<00:00,  5.14s/it]\n"
     ]
    }
   ],
   "source": [
    "import pandas as pd\n",
    "import numpy as np\n",
    "import EvaluateModels as em\n",
    "import boto3\n",
    "\n",
    "## defining bucket\n",
    "s3 = boto3.resource('s3')\n",
    "\n",
    "bucket_name = 'gabriel-de-medeiros'\n",
    "\n",
    "bucket = s3.Bucket(bucket_name)\n",
    "\n",
    "## specifying file from the bucket\n",
    "file_key = 'CleanTrainData.csv'\n",
    "file_key2 = 'CleanTestData.csv'\n",
    "\n",
    "bucket_object = bucket.Object(file_key)\n",
    "bucket_object2 = bucket.Object(file_key2)\n",
    "\n",
    "file_object = bucket_object.get()\n",
    "file_object2 = bucket_object2.get()\n",
    "\n",
    "file_content_stream = file_object.get('Body')\n",
    "file_content_stream2 = file_object2.get('Body')\n",
    "\n",
    "\n",
    "## Reading csv file, index_col = 0 makes the first column of the data to become the index of our pandas data frame\n",
    "train_data = pd.read_csv(file_content_stream, index_col = 0)\n",
    "test_data = pd.read_csv(file_content_stream2, index_col = 0)\n",
    "\n",
    "train_data = train_data.reset_index(drop = True)\n",
    "test_data = test_data.reset_index(drop = True)\n",
    "\n",
    "train_data = train_data.select_dtypes(exclude=['object'])\n",
    "test_data = test_data.select_dtypes(exclude=['object'])\n",
    "\n",
    "train_data = train_data.dropna()\n",
    "test_data = test_data.dropna()\n",
    "\n",
    "\n",
    "X_train, Y_train = train_data.drop(columns = 'is_fraud'), train_data['is_fraud']\n",
    "\n",
    "\n",
    "### REMOVE LATER\n",
    "X = X_train.loc[0:10000]\n",
    "Y = Y_train.loc[0:10000]\n",
    "\n",
    "import Get_Variable_Importance as gvi\n",
    "\n",
    "\n",
    "df_importance_columns = gvi.Importance(X,Y)\n",
    "\n",
    "\n",
    "X_test = test_data[df_importance_columns.drop(columns = 'is_fraud').columns]\n",
    "Y_test = test_data['is_fraud']\n",
    "\n",
    "### REMOVE LATER\n",
    "X_test = X_test.loc[0:10000]\n",
    "Y_test = Y_test.loc[0:10000]\n",
    "\n",
    "X_train = train_data[df_importance_columns.drop(columns = 'is_fraud').columns]\n",
    "Y_train = train_data['is_fraud']\n"
   ]
  },
  {
   "cell_type": "code",
   "execution_count": null,
   "id": "2436cc1a",
   "metadata": {},
   "outputs": [
    {
     "name": "stdout",
     "output_type": "stream",
     "text": [
      "DecisionTrees\n"
     ]
    },
    {
     "name": "stderr",
     "output_type": "stream",
     "text": [
      "100%|██████████| 8/8 [01:15<00:00,  9.46s/it]\n"
     ]
    }
   ],
   "source": [
    "## Decision Trees\n",
    "DTC_results = em.DecisionTreesResults(X_test, X_train, Y_test, Y_train)\n",
    "DTC_best_model = em.DecisionTreesBestModel(DTC_results)"
   ]
  },
  {
   "cell_type": "code",
   "execution_count": 7,
   "id": "c39bc679",
   "metadata": {},
   "outputs": [
    {
     "data": {
      "text/html": [
       "<div>\n",
       "<style scoped>\n",
       "    .dataframe tbody tr th:only-of-type {\n",
       "        vertical-align: middle;\n",
       "    }\n",
       "\n",
       "    .dataframe tbody tr th {\n",
       "        vertical-align: top;\n",
       "    }\n",
       "\n",
       "    .dataframe thead th {\n",
       "        text-align: right;\n",
       "    }\n",
       "</style>\n",
       "<table border=\"1\" class=\"dataframe\">\n",
       "  <thead>\n",
       "    <tr style=\"text-align: right;\">\n",
       "      <th></th>\n",
       "      <th>max_depth</th>\n",
       "      <th>cut_off</th>\n",
       "      <th>accuracy</th>\n",
       "      <th>recall</th>\n",
       "      <th>Performance</th>\n",
       "    </tr>\n",
       "  </thead>\n",
       "  <tbody>\n",
       "    <tr>\n",
       "      <th>0</th>\n",
       "      <td>3</td>\n",
       "      <td>0.001</td>\n",
       "      <td>0.003801</td>\n",
       "      <td>1.000000</td>\n",
       "      <td>0.007573</td>\n",
       "    </tr>\n",
       "    <tr>\n",
       "      <th>1</th>\n",
       "      <td>3</td>\n",
       "      <td>0.002</td>\n",
       "      <td>0.003801</td>\n",
       "      <td>1.000000</td>\n",
       "      <td>0.007573</td>\n",
       "    </tr>\n",
       "    <tr>\n",
       "      <th>2</th>\n",
       "      <td>3</td>\n",
       "      <td>0.003</td>\n",
       "      <td>0.003801</td>\n",
       "      <td>1.000000</td>\n",
       "      <td>0.007573</td>\n",
       "    </tr>\n",
       "    <tr>\n",
       "      <th>3</th>\n",
       "      <td>3</td>\n",
       "      <td>0.004</td>\n",
       "      <td>0.003801</td>\n",
       "      <td>1.000000</td>\n",
       "      <td>0.007573</td>\n",
       "    </tr>\n",
       "    <tr>\n",
       "      <th>4</th>\n",
       "      <td>3</td>\n",
       "      <td>0.005</td>\n",
       "      <td>0.003801</td>\n",
       "      <td>1.000000</td>\n",
       "      <td>0.007573</td>\n",
       "    </tr>\n",
       "    <tr>\n",
       "      <th>...</th>\n",
       "      <td>...</td>\n",
       "      <td>...</td>\n",
       "      <td>...</td>\n",
       "      <td>...</td>\n",
       "      <td>...</td>\n",
       "    </tr>\n",
       "    <tr>\n",
       "      <th>4787</th>\n",
       "      <td>10</td>\n",
       "      <td>0.595</td>\n",
       "      <td>0.700910</td>\n",
       "      <td>0.973684</td>\n",
       "      <td>0.815081</td>\n",
       "    </tr>\n",
       "    <tr>\n",
       "      <th>4788</th>\n",
       "      <td>10</td>\n",
       "      <td>0.596</td>\n",
       "      <td>0.700910</td>\n",
       "      <td>0.973684</td>\n",
       "      <td>0.815081</td>\n",
       "    </tr>\n",
       "    <tr>\n",
       "      <th>4789</th>\n",
       "      <td>10</td>\n",
       "      <td>0.597</td>\n",
       "      <td>0.700910</td>\n",
       "      <td>0.973684</td>\n",
       "      <td>0.815081</td>\n",
       "    </tr>\n",
       "    <tr>\n",
       "      <th>4790</th>\n",
       "      <td>10</td>\n",
       "      <td>0.598</td>\n",
       "      <td>0.700910</td>\n",
       "      <td>0.973684</td>\n",
       "      <td>0.815081</td>\n",
       "    </tr>\n",
       "    <tr>\n",
       "      <th>4791</th>\n",
       "      <td>10</td>\n",
       "      <td>0.599</td>\n",
       "      <td>0.700910</td>\n",
       "      <td>0.973684</td>\n",
       "      <td>0.815081</td>\n",
       "    </tr>\n",
       "  </tbody>\n",
       "</table>\n",
       "<p>4792 rows × 5 columns</p>\n",
       "</div>"
      ],
      "text/plain": [
       "      max_depth  cut_off  accuracy    recall  Performance\n",
       "0             3    0.001  0.003801  1.000000     0.007573\n",
       "1             3    0.002  0.003801  1.000000     0.007573\n",
       "2             3    0.003  0.003801  1.000000     0.007573\n",
       "3             3    0.004  0.003801  1.000000     0.007573\n",
       "4             3    0.005  0.003801  1.000000     0.007573\n",
       "...         ...      ...       ...       ...          ...\n",
       "4787         10    0.595  0.700910  0.973684     0.815081\n",
       "4788         10    0.596  0.700910  0.973684     0.815081\n",
       "4789         10    0.597  0.700910  0.973684     0.815081\n",
       "4790         10    0.598  0.700910  0.973684     0.815081\n",
       "4791         10    0.599  0.700910  0.973684     0.815081\n",
       "\n",
       "[4792 rows x 5 columns]"
      ]
     },
     "execution_count": 7,
     "metadata": {},
     "output_type": "execute_result"
    }
   ],
   "source": [
    "DTC_results"
   ]
  },
  {
   "cell_type": "code",
   "execution_count": null,
   "id": "2bdc3148",
   "metadata": {},
   "outputs": [
    {
     "name": "stdout",
     "output_type": "stream",
     "text": [
      "LogisticRegression\n"
     ]
    },
    {
     "name": "stderr",
     "output_type": "stream",
     "text": [
      "100%|██████████| 599/599 [00:02<00:00, 215.87it/s]\n"
     ]
    }
   ],
   "source": [
    "LR_results = em.LogisticRegressionResults(X_test, X_train, Y_test, Y_train)"
   ]
  },
  {
   "cell_type": "code",
   "execution_count": null,
   "id": "57fd1fca",
   "metadata": {},
   "outputs": [
    {
     "data": {
      "text/html": [
       "<div>\n",
       "<style scoped>\n",
       "    .dataframe tbody tr th:only-of-type {\n",
       "        vertical-align: middle;\n",
       "    }\n",
       "\n",
       "    .dataframe tbody tr th {\n",
       "        vertical-align: top;\n",
       "    }\n",
       "\n",
       "    .dataframe thead th {\n",
       "        text-align: right;\n",
       "    }\n",
       "</style>\n",
       "<table border=\"1\" class=\"dataframe\">\n",
       "  <thead>\n",
       "    <tr style=\"text-align: right;\">\n",
       "      <th></th>\n",
       "      <th>cut_off</th>\n",
       "      <th>accuracy</th>\n",
       "      <th>recall</th>\n",
       "      <th>Performance</th>\n",
       "    </tr>\n",
       "  </thead>\n",
       "  <tbody>\n",
       "    <tr>\n",
       "      <th>0</th>\n",
       "      <td>0.001</td>\n",
       "      <td>0.003801</td>\n",
       "      <td>1.0</td>\n",
       "      <td>0.007573</td>\n",
       "    </tr>\n",
       "    <tr>\n",
       "      <th>1</th>\n",
       "      <td>0.002</td>\n",
       "      <td>0.003801</td>\n",
       "      <td>1.0</td>\n",
       "      <td>0.007573</td>\n",
       "    </tr>\n",
       "    <tr>\n",
       "      <th>2</th>\n",
       "      <td>0.003</td>\n",
       "      <td>0.003801</td>\n",
       "      <td>1.0</td>\n",
       "      <td>0.007573</td>\n",
       "    </tr>\n",
       "    <tr>\n",
       "      <th>3</th>\n",
       "      <td>0.004</td>\n",
       "      <td>0.003801</td>\n",
       "      <td>1.0</td>\n",
       "      <td>0.007573</td>\n",
       "    </tr>\n",
       "    <tr>\n",
       "      <th>4</th>\n",
       "      <td>0.005</td>\n",
       "      <td>0.003801</td>\n",
       "      <td>1.0</td>\n",
       "      <td>0.007573</td>\n",
       "    </tr>\n",
       "    <tr>\n",
       "      <th>...</th>\n",
       "      <td>...</td>\n",
       "      <td>...</td>\n",
       "      <td>...</td>\n",
       "      <td>...</td>\n",
       "    </tr>\n",
       "    <tr>\n",
       "      <th>594</th>\n",
       "      <td>0.595</td>\n",
       "      <td>0.003801</td>\n",
       "      <td>1.0</td>\n",
       "      <td>0.007573</td>\n",
       "    </tr>\n",
       "    <tr>\n",
       "      <th>595</th>\n",
       "      <td>0.596</td>\n",
       "      <td>0.003801</td>\n",
       "      <td>1.0</td>\n",
       "      <td>0.007573</td>\n",
       "    </tr>\n",
       "    <tr>\n",
       "      <th>596</th>\n",
       "      <td>0.597</td>\n",
       "      <td>0.003801</td>\n",
       "      <td>1.0</td>\n",
       "      <td>0.007573</td>\n",
       "    </tr>\n",
       "    <tr>\n",
       "      <th>597</th>\n",
       "      <td>0.598</td>\n",
       "      <td>0.003801</td>\n",
       "      <td>1.0</td>\n",
       "      <td>0.007573</td>\n",
       "    </tr>\n",
       "    <tr>\n",
       "      <th>598</th>\n",
       "      <td>0.599</td>\n",
       "      <td>0.003801</td>\n",
       "      <td>1.0</td>\n",
       "      <td>0.007573</td>\n",
       "    </tr>\n",
       "  </tbody>\n",
       "</table>\n",
       "<p>599 rows × 4 columns</p>\n",
       "</div>"
      ],
      "text/plain": [
       "     cut_off  accuracy  recall  Performance\n",
       "0      0.001  0.003801     1.0     0.007573\n",
       "1      0.002  0.003801     1.0     0.007573\n",
       "2      0.003  0.003801     1.0     0.007573\n",
       "3      0.004  0.003801     1.0     0.007573\n",
       "4      0.005  0.003801     1.0     0.007573\n",
       "..       ...       ...     ...          ...\n",
       "594    0.595  0.003801     1.0     0.007573\n",
       "595    0.596  0.003801     1.0     0.007573\n",
       "596    0.597  0.003801     1.0     0.007573\n",
       "597    0.598  0.003801     1.0     0.007573\n",
       "598    0.599  0.003801     1.0     0.007573\n",
       "\n",
       "[599 rows x 4 columns]"
      ]
     },
     "execution_count": 6,
     "metadata": {},
     "output_type": "execute_result"
    }
   ],
   "source": [
    "LR_results"
   ]
  },
  {
   "cell_type": "code",
   "execution_count": null,
   "id": "c59eb0ee",
   "metadata": {},
   "outputs": [],
   "source": [
    "NN_results = em.NeuralNetworksResults(X_test, X_train, Y_test, Y_train)"
   ]
  },
  {
   "cell_type": "code",
   "execution_count": null,
   "id": "0f82b813",
   "metadata": {},
   "outputs": [],
   "source": [
    "RF_results = em.RandomForestResults(X_test, X_train, Y_test, Y_train)\n",
    "RF_best_model = em.DecisionTreesBestModel(RF_results)"
   ]
  },
  {
   "cell_type": "code",
   "execution_count": null,
   "id": "2fa7844e",
   "metadata": {},
   "outputs": [],
   "source": [
    "## SVC\n",
    "SVC_results = em.SupportVectorMachineResults(X_test, X_train, Y_test, Y_train)\n",
    "SVC_best_model = em.SvcBestModel(SVC_results)"
   ]
  },
  {
   "cell_type": "code",
   "execution_count": null,
   "id": "87f3e9e7",
   "metadata": {},
   "outputs": [],
   "source": [
    "## AdaBoost Decision Trees\n",
    "ADA_DTC = em.AdaBoostDecisionTreesResults(X_test, X_train, Y_test, Y_train, DTC_best_model)\n",
    "\n"
   ]
  },
  {
   "cell_type": "code",
   "execution_count": null,
   "id": "54ba3e61",
   "metadata": {},
   "outputs": [],
   "source": [
    "## AdaBoost SVC\n",
    "ADA_SVC= em.AdaBoostSvmResults(X_test, X_train, Y_test, Y_train, SVC_best_model)\n",
    "\n"
   ]
  },
  {
   "cell_type": "code",
   "execution_count": null,
   "id": "682a9acf",
   "metadata": {},
   "outputs": [],
   "source": [
    "# GradientBoosting\n",
    "GBC_results = em.GradientBoostingResults(X_test, X_train, Y_test, Y_train)"
   ]
  },
  {
   "cell_type": "code",
   "execution_count": null,
   "id": "84322058",
   "metadata": {},
   "outputs": [],
   "source": [
    "\n",
    "\n",
    "\n",
    "\n",
    "# DTC_results.to_csv('CreditCardsFraudDetection/Algorithm/DTC_results.csv', index = False)\n",
    "# DTC_best_model.to_csv('CreditCardsFraudDetection/Algorithm/DTC_best_model.csv', index = False)\n",
    "# RF_results.to_csv('CreditCardsFraudDetection/Algorithm/RF_results.csv', index = False)\n",
    "# RF_best_model.to_csv('CreditCardsFraudDetection/Algorithm/RF_best_model.csv', index = False)\n",
    "# NN_results.to_csv('CreditCardsFraudDetection/Algorithm/NN_results.csv', index = False)\n",
    "# SVC_results.to_csv('CreditCardsFraudDetection/Algorithm/SVC_results.csv', index = False)\n",
    "# SVC_best_model.to_csv('CreditCardsFraudDetection/Algorithm/SVC_best_model.csv', index = False)\n",
    "# LR_results.to_csv('CreditCardsFraudDetection/Algorithm/LR_results.csv', index = False)\n",
    "# ADA_DTC.to_csv('CreditCardsFraudDetection/Algorithm/ADA_DTC.csv', index = False)\n",
    "# ADA_SVC.to_csv('CreditCardsFraudDetection/Algorithm/ADA_SVC.csv', index = False)\n",
    "# GBC_results.to_csv('CreditCardsFraudDetection/Algorithm/GBC_results.csv', index = False)"
   ]
  }
 ],
 "metadata": {
  "kernelspec": {
   "display_name": "conda_tensorflow2_p36",
   "language": "python",
   "name": "conda_tensorflow2_p36"
  },
  "language_info": {
   "codemirror_mode": {
    "name": "ipython",
    "version": 3
   },
   "file_extension": ".py",
   "mimetype": "text/x-python",
   "name": "python",
   "nbconvert_exporter": "python",
   "pygments_lexer": "ipython3",
   "version": "3.6.13"
  }
 },
 "nbformat": 4,
 "nbformat_minor": 5
}

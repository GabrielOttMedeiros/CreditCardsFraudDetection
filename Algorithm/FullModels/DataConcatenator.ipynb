{
 "cells": [
  {
   "cell_type": "code",
   "execution_count": null,
   "id": "f402576d",
   "metadata": {},
   "outputs": [],
   "source": [
    "import pandas as pd\n",
    "\n",
    "lr = pd.read_csv('LR_results.csv')\n",
    "ada_dtc = pd.read_csv('ADA_DTC.csv')\n",
    "dtc = pd.read_csv('DTC_results.csv')\n",
    "nn = pd.read_csv('NN_results.csv')\n",
    "rf = pd.read_csv('RF_results.csv')\n",
    "svc = pd.read_csv('SVC_results.csv')\n",
    "gbc = pd.read_csv('GBC_results')\n",
    "\n",
    "lr = lr[['accuracy','recall','Performance']]\n",
    "ada_dtc = dtc[['accuracy','recall','Performance']]\n",
    "nn = rf[['accuracy','recall','Performance']]\n",
    "svc = ada_dtc[['accuracy','recall','Performance']]\n",
    "dtc = nn[['accuracy','recall','Performance']]\n",
    "rf = svc[['accuracy','recall','Performance']]\n",
    "gbc = gbc[['accuracy','recall','Performance']]\n",
    "\n",
    "lr['Model'] = 'LogisticRegression'\n",
    "ada_dtc['Model'] = 'AdaBoostDecisionTrees'\n",
    "nn['Model'] = 'NeuralNetworks'\n",
    "svc['Model'] = 'SupportVectorMachine'\n",
    "dtc['Model'] = 'DecisionTrees'\n",
    "rf['Model'] = 'RandomForest'\n",
    "gbc['Model'] = 'GradientBoosting'\n",
    "\n",
    "\n",
    "results = pd.concat([lr,ada_dtc,nn, svc, dtc, rf])\n",
    "\n"
   ]
  },
  {
   "cell_type": "code",
   "execution_count": null,
   "id": "d9956662",
   "metadata": {},
   "outputs": [],
   "source": [
    "results.to_csv('FinalResultsConcat.csv', index = False)"
   ]
  }
 ],
 "metadata": {
  "kernelspec": {
   "display_name": "conda_tensorflow2_p36",
   "language": "python",
   "name": "conda_tensorflow2_p36"
  },
  "language_info": {
   "codemirror_mode": {
    "name": "ipython",
    "version": 3
   },
   "file_extension": ".py",
   "mimetype": "text/x-python",
   "name": "python",
   "nbconvert_exporter": "python",
   "pygments_lexer": "ipython3",
   "version": "3.6.13"
  }
 },
 "nbformat": 4,
 "nbformat_minor": 5
}

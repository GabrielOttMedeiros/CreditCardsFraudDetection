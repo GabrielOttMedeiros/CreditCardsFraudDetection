{
 "cells": [
  {
   "cell_type": "code",
   "execution_count": 11,
   "id": "2e4e9ee9",
   "metadata": {},
   "outputs": [],
   "source": [
    "import pandas as pd\n",
    "\n",
    "lr = pd.read_csv('LR_results.csv')\n",
    "ada_dtc = pd.read_csv('ADA_DTC.csv')\n",
    "dtc = pd.read_csv('DTC_results.csv')\n",
    "nn = pd.read_csv('NN_results.csv')\n",
    "rf = pd.read_csv('RF_results.csv')\n",
    "svc = pd.read_csv('SVC_results.csv')\n",
    "gbc = pd.read_csv('GBC_results.csv')\n",
    "\n",
    "lr = lr[['accuracy','recall','Performance','cut_off']]\n",
    "ada_dtc = ada_dtc[['accuracy','recall','Performance','cut_off']]\n",
    "nn = nn[['accuracy','recall','Performance']]\n",
    "svc = svc[['accuracy','recall','Performance','cut_off']]\n",
    "dtc = dtc[['accuracy','recall','Performance','cut_off']]\n",
    "rf = rf[['accuracy','recall','Performance','cut_off']]\n",
    "gbc = gbc[['accuracy','recall','Performance','cut_off']]\n",
    "\n",
    "lr = lr[lr['Performance'] == max(lr['Performance'])]\n",
    "ada_dtc = ada_dtc[ada_dtc['Performance'] == max(ada_dtc['Performance'])]\n",
    "nn = nn[nn['Performance'] == max(nn['Performance'])]\n",
    "svc = svc[svc['Performance'] == max(svc['Performance'])]\n",
    "dtc = dtc[dtc['Performance'] == max(dtc['Performance'])]\n",
    "rf = rf[rf['Performance'] == max(rf['Performance'])]\n",
    "gbc = gbc[gbc['Performance'] == max(gbc['Performance'])]\n",
    "\n",
    "\n",
    "lr['Model'] = 'LogisticRegression'\n",
    "ada_dtc['Model'] = 'AdaBoostDecisionTrees'\n",
    "nn['Model'] = 'NeuralNetworks'\n",
    "svc['Model'] = 'SupportVectorMachine'\n",
    "dtc['Model'] = 'DecisionTrees'\n",
    "rf['Model'] = 'RandomForest'\n",
    "gbc['Model'] = 'GradientBoosting'\n",
    "\n",
    "\n",
    "results = pd.concat([lr,ada_dtc,nn, svc, dtc, rf, gbc])"
   ]
  },
  {
   "cell_type": "code",
   "execution_count": 12,
   "id": "d5161165",
   "metadata": {},
   "outputs": [],
   "source": [
    "results.to_csv('FinalResultsConcat.csv', index = False)"
   ]
  }
 ],
 "metadata": {
  "kernelspec": {
   "display_name": "conda_tensorflow2_p36",
   "language": "python",
   "name": "conda_tensorflow2_p36"
  },
  "language_info": {
   "codemirror_mode": {
    "name": "ipython",
    "version": 3
   },
   "file_extension": ".py",
   "mimetype": "text/x-python",
   "name": "python",
   "nbconvert_exporter": "python",
   "pygments_lexer": "ipython3",
   "version": "3.6.13"
  }
 },
 "nbformat": 4,
 "nbformat_minor": 5
}

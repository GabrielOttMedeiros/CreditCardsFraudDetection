{
 "cells": [
  {
   "cell_type": "code",
   "execution_count": 17,
   "id": "fce73048-edeb-4f2a-8a98-6785275d39a4",
   "metadata": {},
   "outputs": [],
   "source": [
    "import pandas as pd\n",
    "\n",
    "ada_dtc = pd.read_csv('ADA_DTC.csv')\n",
    "dtc = pd.read_csv('DTC_results.csv')\n",
    "lr = pd.read_csv('LR_results.csv')\n",
    "nn = pd.read_csv('NN_results.csv')\n",
    "rf = pd.read_csv('RF_results.csv')\n",
    "svc = pd.read_csv('SVC_results.csv')"
   ]
  },
  {
   "cell_type": "code",
   "execution_count": 18,
   "id": "19c82e98-65da-4572-a7fe-1eda5dcdddda",
   "metadata": {
    "tags": []
   },
   "outputs": [],
   "source": [
    "ada_dtc['Model'] = 'AdaBoostDTC'\n",
    "dtc['Model'] = 'DecisionTrees'\n",
    "lr['Model'] = 'LogisticRegression'\n",
    "nn['Model'] = 'NeuralNetworks'\n",
    "rf['Model'] = 'RandomForest'\n",
    "svc['Model'] = 'SupportVectorMachine'"
   ]
  },
  {
   "cell_type": "code",
   "execution_count": 19,
   "id": "06792823-bf2f-47a7-b77b-3e48828bb546",
   "metadata": {
    "tags": []
   },
   "outputs": [],
   "source": [
    "ada_dtc = ada_dtc[['cut_off', 'accuracy', 'recall', 'Performance', 'Model']]\n",
    "dtc = dtc[['cut_off', 'accuracy', 'recall', 'Performance', 'Model']]\n",
    "lr = lr[['cut_off', 'accuracy', 'recall', 'Performance', 'Model']]\n",
    "nn = nn[['cut_off', 'accuracy', 'recall', 'Performance']]\n",
    "rf = rf[['cut_off', 'accuracy', 'recall', 'Performance', 'Model']]\n",
    "svc = svc[['cut_off', 'accuracy', 'recall', 'Performance', 'Model']]"
   ]
  },
  {
   "cell_type": "code",
   "execution_count": 20,
   "id": "533a37ed-91df-4f78-9ec7-bb9a999791da",
   "metadata": {},
   "outputs": [],
   "source": [
    "to_exp = pd.concat([\n",
    "ada_dtc,\n",
    "dtc,\n",
    "lr,\n",
    "nn,\n",
    "rf,\n",
    "svc])\n"
   ]
  },
  {
   "cell_type": "code",
   "execution_count": 21,
   "id": "4ed19c92-0e7f-4e89-b031-b0f5eb143ace",
   "metadata": {},
   "outputs": [
    {
     "data": {
      "text/html": [
       "<div>\n",
       "<style scoped>\n",
       "    .dataframe tbody tr th:only-of-type {\n",
       "        vertical-align: middle;\n",
       "    }\n",
       "\n",
       "    .dataframe tbody tr th {\n",
       "        vertical-align: top;\n",
       "    }\n",
       "\n",
       "    .dataframe thead th {\n",
       "        text-align: right;\n",
       "    }\n",
       "</style>\n",
       "<table border=\"1\" class=\"dataframe\">\n",
       "  <thead>\n",
       "    <tr style=\"text-align: right;\">\n",
       "      <th></th>\n",
       "      <th>cut_off</th>\n",
       "      <th>accuracy</th>\n",
       "      <th>recall</th>\n",
       "      <th>Performance</th>\n",
       "      <th>Model</th>\n",
       "    </tr>\n",
       "  </thead>\n",
       "  <tbody>\n",
       "    <tr>\n",
       "      <th>0</th>\n",
       "      <td>0.05</td>\n",
       "      <td>0.996761</td>\n",
       "      <td>0.523810</td>\n",
       "      <td>0.686733</td>\n",
       "      <td>AdaBoostDTC</td>\n",
       "    </tr>\n",
       "    <tr>\n",
       "      <th>1</th>\n",
       "      <td>0.10</td>\n",
       "      <td>0.996799</td>\n",
       "      <td>0.510204</td>\n",
       "      <td>0.674943</td>\n",
       "      <td>AdaBoostDTC</td>\n",
       "    </tr>\n",
       "    <tr>\n",
       "      <th>2</th>\n",
       "      <td>0.15</td>\n",
       "      <td>0.996799</td>\n",
       "      <td>0.496599</td>\n",
       "      <td>0.662930</td>\n",
       "      <td>AdaBoostDTC</td>\n",
       "    </tr>\n",
       "    <tr>\n",
       "      <th>3</th>\n",
       "      <td>0.20</td>\n",
       "      <td>0.996799</td>\n",
       "      <td>0.496599</td>\n",
       "      <td>0.662930</td>\n",
       "      <td>AdaBoostDTC</td>\n",
       "    </tr>\n",
       "    <tr>\n",
       "      <th>4</th>\n",
       "      <td>0.25</td>\n",
       "      <td>0.996876</td>\n",
       "      <td>0.489796</td>\n",
       "      <td>0.656858</td>\n",
       "      <td>AdaBoostDTC</td>\n",
       "    </tr>\n",
       "    <tr>\n",
       "      <th>...</th>\n",
       "      <td>...</td>\n",
       "      <td>...</td>\n",
       "      <td>...</td>\n",
       "      <td>...</td>\n",
       "      <td>...</td>\n",
       "    </tr>\n",
       "    <tr>\n",
       "      <th>17</th>\n",
       "      <td>0.35</td>\n",
       "      <td>0.994485</td>\n",
       "      <td>0.027211</td>\n",
       "      <td>0.052972</td>\n",
       "      <td>SupportVectorMachine</td>\n",
       "    </tr>\n",
       "    <tr>\n",
       "      <th>18</th>\n",
       "      <td>0.40</td>\n",
       "      <td>0.994485</td>\n",
       "      <td>0.027211</td>\n",
       "      <td>0.052972</td>\n",
       "      <td>SupportVectorMachine</td>\n",
       "    </tr>\n",
       "    <tr>\n",
       "      <th>19</th>\n",
       "      <td>0.45</td>\n",
       "      <td>0.994485</td>\n",
       "      <td>0.027211</td>\n",
       "      <td>0.052972</td>\n",
       "      <td>SupportVectorMachine</td>\n",
       "    </tr>\n",
       "    <tr>\n",
       "      <th>20</th>\n",
       "      <td>0.50</td>\n",
       "      <td>0.994485</td>\n",
       "      <td>0.027211</td>\n",
       "      <td>0.052972</td>\n",
       "      <td>SupportVectorMachine</td>\n",
       "    </tr>\n",
       "    <tr>\n",
       "      <th>21</th>\n",
       "      <td>0.55</td>\n",
       "      <td>0.994485</td>\n",
       "      <td>0.027211</td>\n",
       "      <td>0.052972</td>\n",
       "      <td>SupportVectorMachine</td>\n",
       "    </tr>\n",
       "  </tbody>\n",
       "</table>\n",
       "<p>979 rows × 5 columns</p>\n",
       "</div>"
      ],
      "text/plain": [
       "    cut_off  accuracy    recall  Performance                 Model\n",
       "0      0.05  0.996761  0.523810     0.686733           AdaBoostDTC\n",
       "1      0.10  0.996799  0.510204     0.674943           AdaBoostDTC\n",
       "2      0.15  0.996799  0.496599     0.662930           AdaBoostDTC\n",
       "3      0.20  0.996799  0.496599     0.662930           AdaBoostDTC\n",
       "4      0.25  0.996876  0.489796     0.656858           AdaBoostDTC\n",
       "..      ...       ...       ...          ...                   ...\n",
       "17     0.35  0.994485  0.027211     0.052972  SupportVectorMachine\n",
       "18     0.40  0.994485  0.027211     0.052972  SupportVectorMachine\n",
       "19     0.45  0.994485  0.027211     0.052972  SupportVectorMachine\n",
       "20     0.50  0.994485  0.027211     0.052972  SupportVectorMachine\n",
       "21     0.55  0.994485  0.027211     0.052972  SupportVectorMachine\n",
       "\n",
       "[979 rows x 5 columns]"
      ]
     },
     "execution_count": 21,
     "metadata": {},
     "output_type": "execute_result"
    }
   ],
   "source": [
    "to_exp"
   ]
  },
  {
   "cell_type": "code",
   "execution_count": 22,
   "id": "55d19f19-a1db-4c2d-a1a4-f43037ef6cce",
   "metadata": {},
   "outputs": [],
   "source": [
    "to_exp.to_csv('FinalResultsConcat.csv')"
   ]
  }
 ],
 "metadata": {
  "kernelspec": {
   "display_name": "Python 3",
   "language": "python",
   "name": "python3"
  },
  "language_info": {
   "codemirror_mode": {
    "name": "ipython",
    "version": 3
   },
   "file_extension": ".py",
   "mimetype": "text/x-python",
   "name": "python",
   "nbconvert_exporter": "python",
   "pygments_lexer": "ipython3",
   "version": "3.8.8"
  }
 },
 "nbformat": 4,
 "nbformat_minor": 5
}

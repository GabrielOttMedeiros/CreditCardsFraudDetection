{
 "cells": [
  {
   "cell_type": "code",
   "execution_count": 1,
   "id": "a7c97772",
   "metadata": {},
   "outputs": [],
   "source": [
    "import pandas as pd\n",
    "\n",
    "lr = pd.read_csv('LR_results.csv')\n",
    "ada_dtc = pd.read_csv('ADA_DTC.csv')\n",
    "dtc = pd.read_csv('DTC_results.csv')\n",
    "nn = pd.read_csv('NN_results.csv')\n",
    "rf = pd.read_csv('RF_results.csv')\n",
    "svc = pd.read_csv('SVC_results.csv')"
   ]
  },
  {
   "cell_type": "code",
   "execution_count": 4,
   "id": "49556bc8",
   "metadata": {},
   "outputs": [],
   "source": [
    "lr = lr[['accuracy','recall','Performance']]\n",
    "ada_dtc = dtc[['accuracy','recall','Performance']]\n",
    "nn = rf[['accuracy','recall','Performance']]\n",
    "svc = ada_dtc[['accuracy','recall','Performance']]\n",
    "dtc = nn[['accuracy','recall','Performance']]\n",
    "rf = svc[['accuracy','recall','Performance']]"
   ]
  },
  {
   "cell_type": "code",
   "execution_count": 6,
   "id": "cb25e42b",
   "metadata": {},
   "outputs": [],
   "source": [
    "lr['Model'] = 'LogisticRegression'\n",
    "ada_dtc['Model'] = 'AdaBoostDecisionTrees'\n",
    "nn['Model'] = 'NeuralNetworks'\n",
    "svc['Model'] = 'SupportVectorClassifier'\n",
    "dtc['Model'] = 'DecisionTrees'\n",
    "rf['Model'] = 'RandomForest'"
   ]
  },
  {
   "cell_type": "code",
   "execution_count": 11,
   "id": "9427edd1",
   "metadata": {},
   "outputs": [],
   "source": [
    "results = pd.concat([lr,ada_dtc,nn, svc, dtc, rf])"
   ]
  },
  {
   "cell_type": "code",
   "execution_count": 13,
   "id": "ede92c49",
   "metadata": {},
   "outputs": [],
   "source": [
    "results.to_csv('FinalResultsConcat.csv', index = False)"
   ]
  }
 ],
 "metadata": {
  "kernelspec": {
   "display_name": "conda_tensorflow2_p36",
   "language": "python",
   "name": "conda_tensorflow2_p36"
  },
  "language_info": {
   "codemirror_mode": {
    "name": "ipython",
    "version": 3
   },
   "file_extension": ".py",
   "mimetype": "text/x-python",
   "name": "python",
   "nbconvert_exporter": "python",
   "pygments_lexer": "ipython3",
   "version": "3.6.13"
  }
 },
 "nbformat": 4,
 "nbformat_minor": 5
}

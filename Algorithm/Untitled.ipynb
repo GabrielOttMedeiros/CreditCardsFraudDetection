{
 "cells": [
  {
   "cell_type": "code",
   "execution_count": 1,
   "id": "44a308d0",
   "metadata": {},
   "outputs": [
    {
     "data": {
      "text/plain": [
       "0.32000000000000006"
      ]
     },
     "execution_count": 1,
     "metadata": {},
     "output_type": "execute_result"
    }
   ],
   "source": [
    "2 * ((0.8*0.2)/(0.8+0.2))"
   ]
  },
  {
   "cell_type": "code",
   "execution_count": 3,
   "id": "0524a9b8",
   "metadata": {},
   "outputs": [
    {
     "data": {
      "text/plain": [
       "0.32"
      ]
     },
     "execution_count": 3,
     "metadata": {},
     "output_type": "execute_result"
    }
   ],
   "source": [
    "2/(1/0.2 + 1/0.8)"
   ]
  },
  {
   "cell_type": "code",
   "execution_count": 4,
   "id": "4b40205c",
   "metadata": {},
   "outputs": [],
   "source": [
    "import pandas as pd\n",
    "import numpy as np\n",
    "\n",
    "ada_dtc = pd.read_csv('ADA_DTC.csv')\n",
    "\n",
    "dtc = pd.read_csv('DTC_best_model.csv')\n",
    "\n",
    "lr = pd.read_csv('LR_results.csv')\n",
    "\n",
    "svc = pd.read_csv('SVC_best_model.csv')\n",
    "\n"
   ]
  },
  {
   "cell_type": "code",
   "execution_count": 20,
   "id": "e56f5b17",
   "metadata": {},
   "outputs": [],
   "source": [
    "lr = lr[lr['Performance']==max(lr['Performance'])]"
   ]
  },
  {
   "cell_type": "code",
   "execution_count": 12,
   "id": "488e3edd",
   "metadata": {},
   "outputs": [],
   "source": [
    "ada_dtc = ada_dtc[ada_dtc['Performance'] == max(ada_dtc['Performance'])]"
   ]
  },
  {
   "cell_type": "code",
   "execution_count": 17,
   "id": "4abdb5d2",
   "metadata": {},
   "outputs": [],
   "source": [
    "svc = svc.iloc[0,:]"
   ]
  },
  {
   "cell_type": "code",
   "execution_count": 24,
   "id": "c242fae0",
   "metadata": {},
   "outputs": [
    {
     "data": {
      "text/html": [
       "<div>\n",
       "<style scoped>\n",
       "    .dataframe tbody tr th:only-of-type {\n",
       "        vertical-align: middle;\n",
       "    }\n",
       "\n",
       "    .dataframe tbody tr th {\n",
       "        vertical-align: top;\n",
       "    }\n",
       "\n",
       "    .dataframe thead th {\n",
       "        text-align: right;\n",
       "    }\n",
       "</style>\n",
       "<table border=\"1\" class=\"dataframe\">\n",
       "  <thead>\n",
       "    <tr style=\"text-align: right;\">\n",
       "      <th></th>\n",
       "      <th>cut_off</th>\n",
       "      <th>accuracy</th>\n",
       "      <th>recall</th>\n",
       "      <th>Performance</th>\n",
       "    </tr>\n",
       "  </thead>\n",
       "  <tbody>\n",
       "    <tr>\n",
       "      <th>0</th>\n",
       "      <td>0.05</td>\n",
       "      <td>0.993714</td>\n",
       "      <td>0.353741</td>\n",
       "      <td>0.521751</td>\n",
       "    </tr>\n",
       "  </tbody>\n",
       "</table>\n",
       "</div>"
      ],
      "text/plain": [
       "   cut_off  accuracy    recall  Performance\n",
       "0     0.05  0.993714  0.353741     0.521751"
      ]
     },
     "execution_count": 24,
     "metadata": {},
     "output_type": "execute_result"
    }
   ],
   "source": [
    "lr"
   ]
  }
 ],
 "metadata": {
  "kernelspec": {
   "display_name": "conda_tensorflow2_p36",
   "language": "python",
   "name": "conda_tensorflow2_p36"
  },
  "language_info": {
   "codemirror_mode": {
    "name": "ipython",
    "version": 3
   },
   "file_extension": ".py",
   "mimetype": "text/x-python",
   "name": "python",
   "nbconvert_exporter": "python",
   "pygments_lexer": "ipython3",
   "version": "3.6.13"
  }
 },
 "nbformat": 4,
 "nbformat_minor": 5
}
